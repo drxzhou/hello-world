{
  "nbformat": 4,
  "nbformat_minor": 0,
  "metadata": {
    "colab": {
      "name": "Untitled0.ipynb",
      "provenance": [],
      "collapsed_sections": [],
      "authorship_tag": "ABX9TyO/ENAxtDY2NoJwBot9pI2I",
      "include_colab_link": true
    },
    "kernelspec": {
      "name": "python3",
      "display_name": "Python 3"
    },
    "language_info": {
      "name": "python"
    },
    "accelerator": "GPU"
  },
  "cells": [
    {
      "cell_type": "markdown",
      "metadata": {
        "id": "view-in-github",
        "colab_type": "text"
      },
      "source": [
        "<a href=\"https://colab.research.google.com/github/drxzhou/hello-world/blob/master/Untitled0.ipynb\" target=\"_parent\"><img src=\"https://colab.research.google.com/assets/colab-badge.svg\" alt=\"Open In Colab\"/></a>"
      ]
    },
    {
      "cell_type": "code",
      "metadata": {
        "id": "W_sciDyWaRhw"
      },
      "source": [
        ""
      ],
      "execution_count": null,
      "outputs": []
    },
    {
      "cell_type": "markdown",
      "metadata": {
        "id": "6bwptWN_b1Pc"
      },
      "source": [
        "## This is \n",
        "\n",
        "\n",
        "---\n",
        "---\n",
        "\n",
        "\n",
        "> 缩进块\n",
        "\n",
        "\n",
        "```\n",
        "print('data')\n",
        "```\n",
        "\n",
        "\n",
        "1.   fadsf\n",
        "2.   列表项\n",
        "\n",
        "\n",
        "\n"
      ]
    }
  ]
}